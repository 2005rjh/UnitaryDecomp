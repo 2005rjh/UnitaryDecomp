{
 "cells": [
  {
   "cell_type": "code",
   "execution_count": 4,
   "id": "0d129ff7-a669-492b-a65b-093965c6c940",
   "metadata": {},
   "outputs": [
    {
     "name": "stdout",
     "output_type": "stream",
     "text": [
      "Step 0 :\n",
      " [[0.9267767+0.12682648j 0.1767767-0.30618622j]\n",
      " [0.1767767-0.30618622j 0.5732233+0.73919892j]]\n",
      "Step 1 :\n",
      " [[0.9267767+0.12682648j 0.1767767-0.30618622j]\n",
      " [0.1767767-0.30618622j 0.5732233+0.73919892j]]\n",
      "Step 2 :\n",
      " [[0.9267767+0.12682648j 0.1767767-0.30618622j]\n",
      " [0.1767767-0.30618622j 0.5732233+0.73919892j]]\n"
     ]
    }
   ],
   "source": [
    "import numpy as np\n",
    "from UnitaryChain import *\n",
    "\n",
    "\n",
    "I2 = np.eye(2, dtype=float)\n",
    "PauliX = np.array([[0,1.],[1.,0]])\n",
    "PauliY = np.array([[0,-1j],[1j,0]])\n",
    "PauliZ = np.array([[1.,0],[0,-1.]])\n",
    "Hadamard = np.array([[1,1],[1,-1]], dtype=float) / np.sqrt(2)\n",
    "\n",
    "UC = UnitaryChain(Hadamard)\n",
    "UC.subdivide_at_step(0, 3)\n",
    "for i in range(UC.N):\n",
    "\tprint(\"Step\", i, \":\\n\", UC.U(i))\n"
   ]
  },
  {
   "cell_type": "code",
   "execution_count": null,
   "id": "81734a07-0bdc-445b-b18b-581666d71046",
   "metadata": {},
   "outputs": [],
   "source": []
  }
 ],
 "metadata": {
  "kernelspec": {
   "display_name": "Python 3 (ipykernel)",
   "language": "python",
   "name": "python3"
  },
  "language_info": {
   "codemirror_mode": {
    "name": "ipython",
    "version": 3
   },
   "file_extension": ".py",
   "mimetype": "text/x-python",
   "name": "python",
   "nbconvert_exporter": "python",
   "pygments_lexer": "ipython3",
   "version": "3.12.0"
  }
 },
 "nbformat": 4,
 "nbformat_minor": 5
}
